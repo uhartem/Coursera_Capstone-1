{
 "cells": [
  {
   "cell_type": "markdown",
   "metadata": {},
   "source": [
    "# Classification of Traffic Accident Severity"
   ]
  },
  {
   "cell_type": "markdown",
   "metadata": {},
   "source": [
    "## Introduction\n",
    "\n",
    "Road safety is a primary concern for drivers since traffic accidents can be fatal. Without data, drivers rely on their intuitive perception of the environment to determine the level of cautiousness when they drive, which can be inaccurate at times. For example, drivers may underestimate the danger of speeding on a wet road even after the rain has stopped, or overestimate the risks of driving with light fog. \n",
    "\n",
    "Therefore, it is important to educate drivers with correct road safety knowledge that is backed-up by empirical evidence, to boost driving safety and confidence. A multi-class model that classifies accidents of various degrees of severity according to different road conditions can inform drivers of the relevant risks so that they can adjust their level of cautiousness when driving."
   ]
  },
  {
   "cell_type": "markdown",
   "metadata": {},
   "source": [
    "## Data I - Description\n",
    "\n",
    "A multi-class model can be used to classify the various degrees of severity. The features used to classify would be variables such as road condition, light condition, weather, speeding (or not), and the lane the driver is in. For example, consider a driver who is driving under 'wet', 'dark, street lights on', 'not speeding', and on a particular lane. \n",
    "\n",
    "A trained model, when assuming that an accident does occur, can classify the severity of the accident. This would provide the driver with the 'worst-case scenario', rather than a probabilistic estimate of an accident occuring. This can still have the effect of inducing an appropriate level of cautiousness in the driver.\n",
    "\n",
    "The features I will be using for classification are: Speeding, whether accident due to inattention, and whether driver under substance influence. Initially, other features were included, but there were too many categories which resulted in non-convergence of models."
   ]
  },
  {
   "cell_type": "markdown",
   "metadata": {},
   "source": [
    "## Data II - Preprocessing"
   ]
  },
  {
   "cell_type": "code",
   "execution_count": 157,
   "metadata": {},
   "outputs": [],
   "source": [
    "import pandas as pd\n",
    "import numpy as np\n",
    "import seaborn as sns\n",
    "from sklearn.model_selection import train_test_split\n",
    "from sklearn.neighbors import KNeighborsClassifier\n",
    "from sklearn.metrics import classification_report\n",
    "from sklearn.tree import DecisionTreeClassifier\n",
    "from sklearn import svm\n",
    "from sklearn.metrics import f1_score\n",
    "from sklearn.metrics import accuracy_score\n",
    "from sklearn import preprocessing\n",
    "from sklearn.linear_model import LogisticRegression\n",
    "from sklearn.metrics import log_loss\n",
    "import matplotlib as mpl\n",
    "import matplotlib.pyplot as plt"
   ]
  },
  {
   "cell_type": "code",
   "execution_count": 158,
   "metadata": {},
   "outputs": [
    {
     "name": "stderr",
     "output_type": "stream",
     "text": [
      "c:\\users\\ong jia yi\\appdata\\local\\programs\\python\\python38-32\\lib\\site-packages\\IPython\\core\\interactiveshell.py:3145: DtypeWarning: Columns (33) have mixed types.Specify dtype option on import or set low_memory=False.\n",
      "  has_raised = await self.run_ast_nodes(code_ast.body, cell_name,\n"
     ]
    }
   ],
   "source": [
    "csv_path = 'C:/Users/Ong Jia Yi/Desktop/STUDY/Co-Cirricular/Coursera - IBM Data Science Professional Certificate/9. Capstone Project/Data-Collisions.csv'\n",
    "data = pd.read_csv(csv_path)\n",
    "data = pd.DataFrame(data)"
   ]
  },
  {
   "cell_type": "code",
   "execution_count": 159,
   "metadata": {},
   "outputs": [],
   "source": [
    "# subset data\n",
    "selected = [\"SEVERITYCODE\", \"SPEEDING\", \"INATTENTIONIND\", \"UNDERINFL\", \"LIGHTCOND\", \"ROADCOND\", \"WEATHER\"]\n",
    "data = data[selected]"
   ]
  },
  {
   "cell_type": "code",
   "execution_count": 160,
   "metadata": {},
   "outputs": [
    {
     "data": {
      "text/plain": [
       "(194673, 7)"
      ]
     },
     "execution_count": 160,
     "metadata": {},
     "output_type": "execute_result"
    }
   ],
   "source": [
    "# check dimensions\n",
    "data.shape"
   ]
  },
  {
   "cell_type": "code",
   "execution_count": 161,
   "metadata": {},
   "outputs": [
    {
     "name": "stdout",
     "output_type": "stream",
     "text": [
      "[nan 'Y']\n",
      "[nan 'Y']\n",
      "['N' '0' nan '1' 'Y']\n",
      "['Daylight' 'Dark - Street Lights On' 'Dark - No Street Lights' nan\n",
      " 'Unknown' 'Dusk' 'Dawn' 'Dark - Street Lights Off' 'Other'\n",
      " 'Dark - Unknown Lighting']\n",
      "['Wet' 'Dry' nan 'Unknown' 'Snow/Slush' 'Ice' 'Other' 'Sand/Mud/Dirt'\n",
      " 'Standing Water' 'Oil']\n",
      "['Overcast' 'Raining' 'Clear' nan 'Unknown' 'Other' 'Snowing'\n",
      " 'Fog/Smog/Smoke' 'Sleet/Hail/Freezing Rain' 'Blowing Sand/Dirt'\n",
      " 'Severe Crosswind' 'Partly Cloudy']\n"
     ]
    }
   ],
   "source": [
    "# checking values of features\n",
    "features = [\"SPEEDING\", \"INATTENTIONIND\", \"UNDERINFL\", \"LIGHTCOND\", \"ROADCOND\", \"WEATHER\"]\n",
    "for feature in features:\n",
    "    print(data[feature].unique())"
   ]
  },
  {
   "cell_type": "code",
   "execution_count": 162,
   "metadata": {},
   "outputs": [],
   "source": [
    "# replace 'nan' with 'N' for binary cases\n",
    "data[\"SPEEDING\"] = data[\"SPEEDING\"].fillna(\"N\")\n",
    "data[\"INATTENTIONIND\"] = data[\"INATTENTIONIND\"].fillna(\"N\")\n",
    "\n",
    "# unify labelling for UNDERINFL\n",
    "data[\"UNDERINFL\"].replace('0', 'N', inplace=True)\n",
    "data[\"UNDERINFL\"].replace('1', 'Y', inplace=True)\n",
    "\n",
    "# drop 'nan' values\n",
    "data.dropna(axis=0, inplace=True)"
   ]
  },
  {
   "cell_type": "code",
   "execution_count": 163,
   "metadata": {},
   "outputs": [
    {
     "data": {
      "text/plain": [
       "(189337, 7)"
      ]
     },
     "execution_count": 163,
     "metadata": {},
     "output_type": "execute_result"
    }
   ],
   "source": [
    "data.shape"
   ]
  },
  {
   "cell_type": "code",
   "execution_count": 164,
   "metadata": {},
   "outputs": [],
   "source": [
    "# convert binary categorical features to numerical values\n",
    "data[\"SPEEDING\"].replace(to_replace=['N', 'Y'], value=[0,1], inplace=True)\n",
    "data[\"INATTENTIONIND\"].replace(to_replace=['N', 'Y'], value=[0,1], inplace=True)\n",
    "data[\"UNDERINFL\"].replace(to_replace=['N', 'Y'], value=[0,1], inplace=True)"
   ]
  },
  {
   "cell_type": "code",
   "execution_count": 165,
   "metadata": {},
   "outputs": [
    {
     "data": {
      "text/html": [
       "<div>\n",
       "<style scoped>\n",
       "    .dataframe tbody tr th:only-of-type {\n",
       "        vertical-align: middle;\n",
       "    }\n",
       "\n",
       "    .dataframe tbody tr th {\n",
       "        vertical-align: top;\n",
       "    }\n",
       "\n",
       "    .dataframe thead th {\n",
       "        text-align: right;\n",
       "    }\n",
       "</style>\n",
       "<table border=\"1\" class=\"dataframe\">\n",
       "  <thead>\n",
       "    <tr style=\"text-align: right;\">\n",
       "      <th></th>\n",
       "      <th>SPEEDING</th>\n",
       "      <th>INATTENTIONIND</th>\n",
       "      <th>UNDERINFL</th>\n",
       "    </tr>\n",
       "  </thead>\n",
       "  <tbody>\n",
       "    <tr>\n",
       "      <th>0</th>\n",
       "      <td>180018</td>\n",
       "      <td>159614</td>\n",
       "      <td>180239</td>\n",
       "    </tr>\n",
       "    <tr>\n",
       "      <th>1</th>\n",
       "      <td>9319</td>\n",
       "      <td>29723</td>\n",
       "      <td>9098</td>\n",
       "    </tr>\n",
       "  </tbody>\n",
       "</table>\n",
       "</div>"
      ],
      "text/plain": [
       "   SPEEDING  INATTENTIONIND  UNDERINFL\n",
       "0    180018          159614     180239\n",
       "1      9319           29723       9098"
      ]
     },
     "execution_count": 165,
     "metadata": {},
     "output_type": "execute_result"
    }
   ],
   "source": [
    "# checking number of positives\n",
    "a = data[\"SPEEDING\"].value_counts().to_frame()\n",
    "b = data[\"INATTENTIONIND\"].value_counts().to_frame()\n",
    "c = data[\"UNDERINFL\"].value_counts().to_frame()\n",
    "pd.concat([a,b,c], axis=1)"
   ]
  },
  {
   "cell_type": "code",
   "execution_count": 166,
   "metadata": {},
   "outputs": [],
   "source": [
    "# Use one hot encoding technique to conver categorical varables to binary variables\n",
    "# \"LIGHTCOND\", \"ROADCOND\", \"WEATHER\"\n",
    "Feature = data[features]\n",
    "Feature = pd.concat([Feature, pd.get_dummies(data['LIGHTCOND']),\n",
    "                              pd.get_dummies(data['ROADCOND']),\n",
    "                              pd.get_dummies(data['WEATHER'])], axis=1)\n",
    "Feature.drop([\"LIGHTCOND\", \"ROADCOND\", \"WEATHER\"], axis = 1, inplace=True)"
   ]
  },
  {
   "cell_type": "code",
   "execution_count": 167,
   "metadata": {},
   "outputs": [
    {
     "data": {
      "text/html": [
       "<div>\n",
       "<style scoped>\n",
       "    .dataframe tbody tr th:only-of-type {\n",
       "        vertical-align: middle;\n",
       "    }\n",
       "\n",
       "    .dataframe tbody tr th {\n",
       "        vertical-align: top;\n",
       "    }\n",
       "\n",
       "    .dataframe thead th {\n",
       "        text-align: right;\n",
       "    }\n",
       "</style>\n",
       "<table border=\"1\" class=\"dataframe\">\n",
       "  <thead>\n",
       "    <tr style=\"text-align: right;\">\n",
       "      <th></th>\n",
       "      <th>Dark - No Street Lights</th>\n",
       "      <th>Dark - Street Lights Off</th>\n",
       "      <th>Dark - Street Lights On</th>\n",
       "      <th>Dark - Unknown Lighting</th>\n",
       "      <th>Dawn</th>\n",
       "      <th>Daylight</th>\n",
       "      <th>Dusk</th>\n",
       "      <th>Other</th>\n",
       "      <th>Unknown</th>\n",
       "      <th>Dry</th>\n",
       "      <th>...</th>\n",
       "      <th>Clear</th>\n",
       "      <th>Fog/Smog/Smoke</th>\n",
       "      <th>Other</th>\n",
       "      <th>Overcast</th>\n",
       "      <th>Partly Cloudy</th>\n",
       "      <th>Raining</th>\n",
       "      <th>Severe Crosswind</th>\n",
       "      <th>Sleet/Hail/Freezing Rain</th>\n",
       "      <th>Snowing</th>\n",
       "      <th>Unknown</th>\n",
       "    </tr>\n",
       "  </thead>\n",
       "  <tbody>\n",
       "    <tr>\n",
       "      <th>0</th>\n",
       "      <td>187802</td>\n",
       "      <td>188145</td>\n",
       "      <td>140897</td>\n",
       "      <td>189326</td>\n",
       "      <td>186835</td>\n",
       "      <td>73260</td>\n",
       "      <td>183448</td>\n",
       "      <td>189102</td>\n",
       "      <td>175881</td>\n",
       "      <td>65037</td>\n",
       "      <td>...</td>\n",
       "      <td>78329</td>\n",
       "      <td>188768</td>\n",
       "      <td>188513</td>\n",
       "      <td>161656</td>\n",
       "      <td>189332</td>\n",
       "      <td>156220</td>\n",
       "      <td>189312</td>\n",
       "      <td>189224</td>\n",
       "      <td>188436</td>\n",
       "      <td>174298</td>\n",
       "    </tr>\n",
       "    <tr>\n",
       "      <th>1</th>\n",
       "      <td>1535</td>\n",
       "      <td>1192</td>\n",
       "      <td>48440</td>\n",
       "      <td>11</td>\n",
       "      <td>2502</td>\n",
       "      <td>116077</td>\n",
       "      <td>5889</td>\n",
       "      <td>235</td>\n",
       "      <td>13456</td>\n",
       "      <td>124300</td>\n",
       "      <td>...</td>\n",
       "      <td>111008</td>\n",
       "      <td>569</td>\n",
       "      <td>824</td>\n",
       "      <td>27681</td>\n",
       "      <td>5</td>\n",
       "      <td>33117</td>\n",
       "      <td>25</td>\n",
       "      <td>113</td>\n",
       "      <td>901</td>\n",
       "      <td>15039</td>\n",
       "    </tr>\n",
       "  </tbody>\n",
       "</table>\n",
       "<p>2 rows × 29 columns</p>\n",
       "</div>"
      ],
      "text/plain": [
       "   Dark - No Street Lights  Dark - Street Lights Off  Dark - Street Lights On  \\\n",
       "0                   187802                    188145                   140897   \n",
       "1                     1535                      1192                    48440   \n",
       "\n",
       "   Dark - Unknown Lighting    Dawn  Daylight    Dusk   Other  Unknown     Dry  \\\n",
       "0                   189326  186835     73260  183448  189102   175881   65037   \n",
       "1                       11    2502    116077    5889     235    13456  124300   \n",
       "\n",
       "   ...   Clear  Fog/Smog/Smoke   Other  Overcast  Partly Cloudy  Raining  \\\n",
       "0  ...   78329          188768  188513    161656         189332   156220   \n",
       "1  ...  111008             569     824     27681              5    33117   \n",
       "\n",
       "   Severe Crosswind  Sleet/Hail/Freezing Rain  Snowing  Unknown  \n",
       "0            189312                    189224   188436   174298  \n",
       "1                25                       113      901    15039  \n",
       "\n",
       "[2 rows x 29 columns]"
      ]
     },
     "execution_count": 167,
     "metadata": {},
     "output_type": "execute_result"
    }
   ],
   "source": [
    "# checking number of positives\n",
    "table = []\n",
    "for col in range(3, Feature.shape[1]):\n",
    "    counts = Feature.iloc[:,col].value_counts()\n",
    "    table.append(counts)\n",
    "pd.concat(table, axis=1)"
   ]
  },
  {
   "cell_type": "code",
   "execution_count": 168,
   "metadata": {},
   "outputs": [],
   "source": [
    "# define datasets\n",
    "X = Feature\n",
    "y = data['SEVERITYCODE'].values.astype(str)"
   ]
  },
  {
   "cell_type": "markdown",
   "metadata": {},
   "source": [
    "## Data III - Visualization"
   ]
  },
  {
   "cell_type": "markdown",
   "metadata": {},
   "source": [
    "In the following three tables, we can see that the proportion of level 2 severity is higher when any of the three cases is true (speeding, inattentive, or influenced by substance). This means that these features do indeed have an effect on the severity of accidents when it happens."
   ]
  },
  {
   "cell_type": "code",
   "execution_count": 169,
   "metadata": {
    "scrolled": false
   },
   "outputs": [
    {
     "data": {
      "text/plain": [
       "WEATHER                   SEVERITYCODE\n",
       "Blowing Sand/Dirt         1               0.727273\n",
       "                          2               0.272727\n",
       "Clear                     1               0.677429\n",
       "                          2               0.322571\n",
       "Fog/Smog/Smoke            1               0.671353\n",
       "                          2               0.328647\n",
       "Other                     1               0.859223\n",
       "                          2               0.140777\n",
       "Overcast                  1               0.684296\n",
       "                          2               0.315704\n",
       "Partly Cloudy             2               0.600000\n",
       "                          1               0.400000\n",
       "Raining                   1               0.662771\n",
       "                          2               0.337229\n",
       "Severe Crosswind          1               0.720000\n",
       "                          2               0.280000\n",
       "Sleet/Hail/Freezing Rain  1               0.752212\n",
       "                          2               0.247788\n",
       "Snowing                   1               0.812431\n",
       "                          2               0.187569\n",
       "Unknown                   1               0.946007\n",
       "                          2               0.053993\n",
       "Name: SEVERITYCODE, dtype: float64"
      ]
     },
     "execution_count": 169,
     "metadata": {},
     "output_type": "execute_result"
    }
   ],
   "source": [
    "data.groupby(['WEATHER'])['SEVERITYCODE'].value_counts(normalize=True)"
   ]
  },
  {
   "cell_type": "code",
   "execution_count": 170,
   "metadata": {},
   "outputs": [
    {
     "data": {
      "image/png": "[encoded data removed]",
      "text/plain": [
       "<Figure size 1440x1080 with 1 Axes>"
      ]
     },
     "metadata": {
      "needs_background": "light"
     },
     "output_type": "display_data"
    }
   ],
   "source": [
    "# plot bar chart for proportion comparison\n",
    "plot_data = {\n",
    "    \"Severity=1\": [0.727273, 0.677429, 0.671353, 0.684296, 0.600000, 0.662771],\n",
    "    \"Severity=2\": [0.272727, 0.322571, 0.328647, 0.315704, 0.400000, 0.337229]\n",
    "}\n",
    "plot_data = pd.DataFrame(plot_data)\n",
    "plot_data.index = [\"Blowing Sand/Dirt\", \"Clear\", \"Fog/Smog/Smoke\", \"Overcast\", \"Partly Cloudy\", \"Raining\"]\n",
    "\n",
    "plot_data.plot(kind = \"bar\", figsize=(20,15))\n",
    "plt.title(\"Proportion of Accident Severities by Weather Conditions\",\n",
    "         fontsize=30)\n",
    "plt.xlabel(\"Selected Weather Conditions\")\n",
    "plt.ylabel(\"Proportion of All Accidents\")\n",
    "plt.rc('axes', labelsize=25)\n",
    "plt.rc('legend', fontsize=25)\n",
    "plt.rc('xtick',labelsize=25)\n",
    "plt.rc('ytick',labelsize=25)"
   ]
  },
  {
   "cell_type": "code",
   "execution_count": 171,
   "metadata": {},
   "outputs": [
    {
     "data": {
      "text/plain": [
       "UNDERINFL  SEVERITYCODE\n",
       "0          1               0.703172\n",
       "           2               0.296828\n",
       "1          1               0.609585\n",
       "           2               0.390415\n",
       "Name: SEVERITYCODE, dtype: float64"
      ]
     },
     "execution_count": 171,
     "metadata": {},
     "output_type": "execute_result"
    }
   ],
   "source": [
    "underinfl = data.groupby(['UNDERINFL'])['SEVERITYCODE'].value_counts(normalize=True)\n",
    "underinfl"
   ]
  },
  {
   "cell_type": "code",
   "execution_count": 172,
   "metadata": {},
   "outputs": [
    {
     "data": {
      "image/png": "[encoded data removed]",
      "text/plain": [
       "<Figure size 1440x1080 with 1 Axes>"
      ]
     },
     "metadata": {
      "needs_background": "light"
     },
     "output_type": "display_data"
    }
   ],
   "source": [
    "# plot bar chart for proportion comparison\n",
    "plot_data = {\n",
    "    \"Severity=1\": [0.703172, 0.609585],\n",
    "    \"Severity=2\": [0.296828, 0.390415]\n",
    "}\n",
    "plot_data = pd.DataFrame(plot_data)\n",
    "plot_data.index = [\"NO\", \"YES\"]\n",
    "\n",
    "plot_data.plot(kind = \"bar\", figsize=(20,15))\n",
    "plt.title(\"Proportion of Accident Severities by Substance Influence\",\n",
    "         fontsize=30)\n",
    "plt.xlabel(\"Whether Under Influence of Substance\")\n",
    "plt.ylabel(\"Proportion of All Accidents\")\n",
    "plt.rc('axes', labelsize=25)\n",
    "plt.rc('legend', fontsize=25)\n",
    "plt.rc('xtick',labelsize=25)\n",
    "plt.rc('ytick',labelsize=25)"
   ]
  },
  {
   "cell_type": "markdown",
   "metadata": {},
   "source": [
    "## Methodology\n",
    "\n",
    "I take a metric-based approach in selecting the best classification algorithm to generate insights."
   ]
  },
  {
   "cell_type": "code",
   "execution_count": 173,
   "metadata": {},
   "outputs": [
    {
     "name": "stdout",
     "output_type": "stream",
     "text": [
      "Training set:  (151469, 32) (151469,)\n",
      "Testing set:  (37868, 32) (37868,)\n"
     ]
    }
   ],
   "source": [
    "# normalize data\n",
    "#X = preprocessing.StandardScaler().fit(X).transform(X)\n",
    "\n",
    "# split \"train_loan.csv\" data into training and testing set\n",
    "X_train, X_test, y_train, y_test = train_test_split(X, y, test_size=0.2, random_state=1234)\n",
    "\n",
    "# verifying set dimensions\n",
    "print(\"Training set: \", X_train.shape, y_train.shape)\n",
    "print(\"Testing set: \", X_test.shape, y_test.shape)"
   ]
  },
  {
   "cell_type": "markdown",
   "metadata": {},
   "source": [
    "## Methodology - Decision Tree\n",
    "\n",
    "Select the 'best' Decision Tree model by iteratively testing the max_depth parameter."
   ]
  },
  {
   "cell_type": "code",
   "execution_count": 174,
   "metadata": {
    "scrolled": true
   },
   "outputs": [],
   "source": [
    "limit = 10\n",
    "\n",
    "# initialize scores\n",
    "acc_scores = np.zeros((limit))\n",
    "f1_scores = np.zeros((limit))\n",
    "\n",
    "i = 0\n",
    "for maxdepth in range(1, limit+1):\n",
    "    # for each maxdepth, run model\n",
    "    Tree_model = DecisionTreeClassifier(criterion=\"entropy\", max_depth = maxdepth)\n",
    "    Tree_model.fit(X_train, y_train)\n",
    "    predicted = Tree_model.predict(X_test)\n",
    "    # for each maxdepth store scores\n",
    "    acc_scores[i] = accuracy_score(y_test, predicted)\n",
    "    f1_scores[i] = f1_score(y_test, predicted, average='weighted')\n",
    "    i = i + 1"
   ]
  },
  {
   "cell_type": "code",
   "execution_count": 175,
   "metadata": {},
   "outputs": [
    {
     "data": {
      "text/html": [
       "<div>\n",
       "<style scoped>\n",
       "    .dataframe tbody tr th:only-of-type {\n",
       "        vertical-align: middle;\n",
       "    }\n",
       "\n",
       "    .dataframe tbody tr th {\n",
       "        vertical-align: top;\n",
       "    }\n",
       "\n",
       "    .dataframe thead th {\n",
       "        text-align: right;\n",
       "    }\n",
       "</style>\n",
       "<table border=\"1\" class=\"dataframe\">\n",
       "  <thead>\n",
       "    <tr style=\"text-align: right;\">\n",
       "      <th></th>\n",
       "      <th>MaxDepth</th>\n",
       "      <th>AccScore</th>\n",
       "      <th>F1Score</th>\n",
       "    </tr>\n",
       "  </thead>\n",
       "  <tbody>\n",
       "    <tr>\n",
       "      <th>5</th>\n",
       "      <td>6</td>\n",
       "      <td>0.700380</td>\n",
       "      <td>0.578062</td>\n",
       "    </tr>\n",
       "    <tr>\n",
       "      <th>7</th>\n",
       "      <td>8</td>\n",
       "      <td>0.700275</td>\n",
       "      <td>0.578107</td>\n",
       "    </tr>\n",
       "    <tr>\n",
       "      <th>6</th>\n",
       "      <td>7</td>\n",
       "      <td>0.700248</td>\n",
       "      <td>0.578095</td>\n",
       "    </tr>\n",
       "    <tr>\n",
       "      <th>8</th>\n",
       "      <td>9</td>\n",
       "      <td>0.700248</td>\n",
       "      <td>0.578191</td>\n",
       "    </tr>\n",
       "    <tr>\n",
       "      <th>4</th>\n",
       "      <td>5</td>\n",
       "      <td>0.700195</td>\n",
       "      <td>0.576851</td>\n",
       "    </tr>\n",
       "    <tr>\n",
       "      <th>0</th>\n",
       "      <td>1</td>\n",
       "      <td>0.700169</td>\n",
       "      <td>0.576692</td>\n",
       "    </tr>\n",
       "    <tr>\n",
       "      <th>1</th>\n",
       "      <td>2</td>\n",
       "      <td>0.700169</td>\n",
       "      <td>0.576692</td>\n",
       "    </tr>\n",
       "    <tr>\n",
       "      <th>2</th>\n",
       "      <td>3</td>\n",
       "      <td>0.700169</td>\n",
       "      <td>0.576692</td>\n",
       "    </tr>\n",
       "    <tr>\n",
       "      <th>3</th>\n",
       "      <td>4</td>\n",
       "      <td>0.700143</td>\n",
       "      <td>0.576679</td>\n",
       "    </tr>\n",
       "    <tr>\n",
       "      <th>9</th>\n",
       "      <td>10</td>\n",
       "      <td>0.699958</td>\n",
       "      <td>0.578242</td>\n",
       "    </tr>\n",
       "  </tbody>\n",
       "</table>\n",
       "</div>"
      ],
      "text/plain": [
       "   MaxDepth  AccScore   F1Score\n",
       "5         6  0.700380  0.578062\n",
       "7         8  0.700275  0.578107\n",
       "6         7  0.700248  0.578095\n",
       "8         9  0.700248  0.578191\n",
       "4         5  0.700195  0.576851\n",
       "0         1  0.700169  0.576692\n",
       "1         2  0.700169  0.576692\n",
       "2         3  0.700169  0.576692\n",
       "3         4  0.700143  0.576679\n",
       "9        10  0.699958  0.578242"
      ]
     },
     "execution_count": 175,
     "metadata": {},
     "output_type": "execute_result"
    }
   ],
   "source": [
    "table = pd.concat([pd.DataFrame([i for i in range(1, 11)]),\n",
    "                   pd.DataFrame(acc_scores), \n",
    "                   pd.DataFrame(f1_scores)], axis=1)\n",
    "table.columns = [\"MaxDepth\", \"AccScore\", \"F1Score\"]\n",
    "table.sort_values([\"AccScore\"], ascending=False, axis=0)"
   ]
  },
  {
   "cell_type": "code",
   "execution_count": 176,
   "metadata": {},
   "outputs": [],
   "source": [
    "# seeing that max_depth = 5 has the highest accuracy score\n",
    "# and that the F1 scores are not very different\n",
    "# choose the best Decision Tree model with max_depth = 5\n",
    "\n",
    "Tree_model = DecisionTreeClassifier(criterion=\"entropy\", max_depth = 5)\n",
    "Tree_model.fit(X_train, y_train)\n",
    "predicted = Tree_model.predict(X_test)"
   ]
  },
  {
   "cell_type": "code",
   "execution_count": 177,
   "metadata": {},
   "outputs": [],
   "source": [
    "Tree_f1 = f1_score(y_test, predicted, average='weighted')\n",
    "Tree_acc = accuracy_score(y_test, predicted)"
   ]
  },
  {
   "cell_type": "markdown",
   "metadata": {},
   "source": [
    "## Methodology - Logistic Regression\n",
    "\n",
    "Select the 'best' Decision Tree model by iteratively testing the solver parameter."
   ]
  },
  {
   "cell_type": "code",
   "execution_count": 178,
   "metadata": {},
   "outputs": [],
   "source": [
    "solvers = [\"newton-cg\", \"lbfgs\", \"liblinear\", \"sag\", \"saga\"]\n",
    "\n",
    "# initialize scores\n",
    "acc_scores = np.zeros(5)\n",
    "f1_scores = np.zeros(5)\n",
    "log_losses = np.zeros(5)\n",
    "\n",
    "i = 0\n",
    "for solver in solvers:\n",
    "    # for each solver, run model\n",
    "    LR_model = LogisticRegression(C=0.01, solver=solver).fit(X_train, y_train)\n",
    "    predicted = LR_model.predict(X_test)\n",
    "    predicted_prob = LR_model.predict_proba(X_test)\n",
    "    # for each solver store scores\n",
    "    acc_scores[i] = accuracy_score(y_test, predicted)\n",
    "    f1_scores[i] = f1_score(y_test, predicted, average='weighted')\n",
    "    log_losses[i] = log_loss(y_test,  predicted_prob)\n",
    "    i = i + 1"
   ]
  },
  {
   "cell_type": "code",
   "execution_count": 179,
   "metadata": {},
   "outputs": [
    {
     "data": {
      "text/html": [
       "<div>\n",
       "<style scoped>\n",
       "    .dataframe tbody tr th:only-of-type {\n",
       "        vertical-align: middle;\n",
       "    }\n",
       "\n",
       "    .dataframe tbody tr th {\n",
       "        vertical-align: top;\n",
       "    }\n",
       "\n",
       "    .dataframe thead th {\n",
       "        text-align: right;\n",
       "    }\n",
       "</style>\n",
       "<table border=\"1\" class=\"dataframe\">\n",
       "  <thead>\n",
       "    <tr style=\"text-align: right;\">\n",
       "      <th></th>\n",
       "      <th>Solver</th>\n",
       "      <th>AccScore</th>\n",
       "      <th>F1Score</th>\n",
       "      <th>LogLoss</th>\n",
       "    </tr>\n",
       "  </thead>\n",
       "  <tbody>\n",
       "    <tr>\n",
       "      <th>0</th>\n",
       "      <td>newton-cg</td>\n",
       "      <td>0.700169</td>\n",
       "      <td>0.576741</td>\n",
       "      <td>0.587845</td>\n",
       "    </tr>\n",
       "    <tr>\n",
       "      <th>3</th>\n",
       "      <td>sag</td>\n",
       "      <td>0.700169</td>\n",
       "      <td>0.576741</td>\n",
       "      <td>0.587846</td>\n",
       "    </tr>\n",
       "    <tr>\n",
       "      <th>4</th>\n",
       "      <td>saga</td>\n",
       "      <td>0.700169</td>\n",
       "      <td>0.576741</td>\n",
       "      <td>0.587846</td>\n",
       "    </tr>\n",
       "    <tr>\n",
       "      <th>1</th>\n",
       "      <td>lbfgs</td>\n",
       "      <td>0.700169</td>\n",
       "      <td>0.576741</td>\n",
       "      <td>0.587846</td>\n",
       "    </tr>\n",
       "    <tr>\n",
       "      <th>2</th>\n",
       "      <td>liblinear</td>\n",
       "      <td>0.700169</td>\n",
       "      <td>0.576741</td>\n",
       "      <td>0.587892</td>\n",
       "    </tr>\n",
       "  </tbody>\n",
       "</table>\n",
       "</div>"
      ],
      "text/plain": [
       "      Solver  AccScore   F1Score   LogLoss\n",
       "0  newton-cg  0.700169  0.576741  0.587845\n",
       "3        sag  0.700169  0.576741  0.587846\n",
       "4       saga  0.700169  0.576741  0.587846\n",
       "1      lbfgs  0.700169  0.576741  0.587846\n",
       "2  liblinear  0.700169  0.576741  0.587892"
      ]
     },
     "execution_count": 179,
     "metadata": {},
     "output_type": "execute_result"
    }
   ],
   "source": [
    "table = pd.concat([pd.DataFrame(solvers),\n",
    "                   pd.DataFrame(acc_scores), \n",
    "                   pd.DataFrame(f1_scores),\n",
    "                   pd.DataFrame(log_losses)], axis=1)\n",
    "table.columns = [\"Solver\", \"AccScore\", \"F1Score\", \"LogLoss\"]\n",
    "table.sort_values([\"LogLoss\"], axis=0)"
   ]
  },
  {
   "cell_type": "code",
   "execution_count": 180,
   "metadata": {},
   "outputs": [],
   "source": [
    "# seeing that the scores are not very different\n",
    "# choose the best Logistic Regression model with default Solver = \"lbfgs\"\n",
    "\n",
    "LR_model = LogisticRegression(C=0.01, solver='lbfgs').fit(X_train, y_train)\n",
    "predicted = LR_model.predict(X_test)\n",
    "LR_f1 = f1_score(y_test, predicted, average='weighted')\n",
    "LR_acc = accuracy_score(y_test, predicted)"
   ]
  },
  {
   "cell_type": "code",
   "execution_count": 181,
   "metadata": {
    "scrolled": false
   },
   "outputs": [
    {
     "data": {
      "text/html": [
       "<div>\n",
       "<style scoped>\n",
       "    .dataframe tbody tr th:only-of-type {\n",
       "        vertical-align: middle;\n",
       "    }\n",
       "\n",
       "    .dataframe tbody tr th {\n",
       "        vertical-align: top;\n",
       "    }\n",
       "\n",
       "    .dataframe thead th {\n",
       "        text-align: right;\n",
       "    }\n",
       "</style>\n",
       "<table border=\"1\" class=\"dataframe\">\n",
       "  <thead>\n",
       "    <tr style=\"text-align: right;\">\n",
       "      <th></th>\n",
       "      <th>Algorithm</th>\n",
       "      <th>F1-score</th>\n",
       "      <th>Accuracy</th>\n",
       "    </tr>\n",
       "  </thead>\n",
       "  <tbody>\n",
       "    <tr>\n",
       "      <th>0</th>\n",
       "      <td>Decision Tree</td>\n",
       "      <td>0.576851</td>\n",
       "      <td>0.700195</td>\n",
       "    </tr>\n",
       "    <tr>\n",
       "      <th>1</th>\n",
       "      <td>LogisticRegression</td>\n",
       "      <td>0.576741</td>\n",
       "      <td>0.700169</td>\n",
       "    </tr>\n",
       "  </tbody>\n",
       "</table>\n",
       "</div>"
      ],
      "text/plain": [
       "            Algorithm  F1-score  Accuracy\n",
       "0       Decision Tree  0.576851  0.700195\n",
       "1  LogisticRegression  0.576741  0.700169"
      ]
     },
     "execution_count": 181,
     "metadata": {},
     "output_type": "execute_result"
    }
   ],
   "source": [
    "table = {\n",
    "    \"Algorithm\": [\"Decision Tree\", \"LogisticRegression\"],\n",
    "    \"F1-score\": [Tree_f1, LR_f1],\n",
    "    \"Accuracy\": [Tree_acc, LR_acc]\n",
    "}\n",
    "\n",
    "table = pd.DataFrame(table)\n",
    "table"
   ]
  },
  {
   "cell_type": "markdown",
   "metadata": {},
   "source": [
    "Since the scores are not significantly different, I will use the Logistic Regression model since it can predict probabilities."
   ]
  },
  {
   "cell_type": "markdown",
   "metadata": {},
   "source": [
    "## Results\n",
    "\n",
    "Demonstrate how the Logistic Model can provide real-time information to drivers."
   ]
  },
  {
   "cell_type": "code",
   "execution_count": 107,
   "metadata": {
    "scrolled": true
   },
   "outputs": [
    {
     "data": {
      "text/plain": [
       "array(['Daylight', 'Dark - Street Lights On', 'Dark - No Street Lights',\n",
       "       'Unknown', 'Dusk', 'Dawn', 'Dark - Street Lights Off', 'Other',\n",
       "       'Dark - Unknown Lighting'], dtype=object)"
      ]
     },
     "execution_count": 107,
     "metadata": {},
     "output_type": "execute_result"
    }
   ],
   "source": [
    "data[\"LIGHTCOND\"].unique()"
   ]
  },
  {
   "cell_type": "code",
   "execution_count": 108,
   "metadata": {},
   "outputs": [
    {
     "data": {
      "text/plain": [
       "array(['Wet', 'Dry', 'Unknown', 'Snow/Slush', 'Ice', 'Other',\n",
       "       'Sand/Mud/Dirt', 'Standing Water', 'Oil'], dtype=object)"
      ]
     },
     "execution_count": 108,
     "metadata": {},
     "output_type": "execute_result"
    }
   ],
   "source": [
    "data[\"ROADCOND\"].unique()"
   ]
  },
  {
   "cell_type": "code",
   "execution_count": 109,
   "metadata": {},
   "outputs": [
    {
     "data": {
      "text/plain": [
       "array(['Overcast', 'Raining', 'Clear', 'Unknown', 'Other', 'Snowing',\n",
       "       'Fog/Smog/Smoke', 'Sleet/Hail/Freezing Rain', 'Blowing Sand/Dirt',\n",
       "       'Severe Crosswind', 'Partly Cloudy'], dtype=object)"
      ]
     },
     "execution_count": 109,
     "metadata": {},
     "output_type": "execute_result"
    }
   ],
   "source": [
    "data[\"WEATHER\"].unique()"
   ]
  },
  {
   "cell_type": "code",
   "execution_count": 182,
   "metadata": {
    "scrolled": true
   },
   "outputs": [
    {
     "data": {
      "text/html": [
       "<div>\n",
       "<style scoped>\n",
       "    .dataframe tbody tr th:only-of-type {\n",
       "        vertical-align: middle;\n",
       "    }\n",
       "\n",
       "    .dataframe tbody tr th {\n",
       "        vertical-align: top;\n",
       "    }\n",
       "\n",
       "    .dataframe thead th {\n",
       "        text-align: right;\n",
       "    }\n",
       "</style>\n",
       "<table border=\"1\" class=\"dataframe\">\n",
       "  <thead>\n",
       "    <tr style=\"text-align: right;\">\n",
       "      <th></th>\n",
       "      <th>Condition</th>\n",
       "      <th>Input Value</th>\n",
       "    </tr>\n",
       "  </thead>\n",
       "  <tbody>\n",
       "    <tr>\n",
       "      <th>0</th>\n",
       "      <td>SPEEDING</td>\n",
       "      <td>0.0</td>\n",
       "    </tr>\n",
       "    <tr>\n",
       "      <th>1</th>\n",
       "      <td>INATTENTIONIND</td>\n",
       "      <td>0.0</td>\n",
       "    </tr>\n",
       "    <tr>\n",
       "      <th>2</th>\n",
       "      <td>UNDERINFL</td>\n",
       "      <td>0.0</td>\n",
       "    </tr>\n",
       "    <tr>\n",
       "      <th>3</th>\n",
       "      <td>Dark - No Street Lights</td>\n",
       "      <td>0.0</td>\n",
       "    </tr>\n",
       "    <tr>\n",
       "      <th>4</th>\n",
       "      <td>Dark - Street Lights Off</td>\n",
       "      <td>0.0</td>\n",
       "    </tr>\n",
       "  </tbody>\n",
       "</table>\n",
       "</div>"
      ],
      "text/plain": [
       "                  Condition  Input Value\n",
       "0                  SPEEDING          0.0\n",
       "1            INATTENTIONIND          0.0\n",
       "2                 UNDERINFL          0.0\n",
       "3   Dark - No Street Lights          0.0\n",
       "4  Dark - Street Lights Off          0.0"
      ]
     },
     "execution_count": 182,
     "metadata": {},
     "output_type": "execute_result"
    }
   ],
   "source": [
    "# define new inputs with default value as 0\n",
    "input = pd.concat([pd.DataFrame(Feature.columns.values), \n",
    "                   pd.DataFrame(np.zeros(32))], axis=1)\n",
    "input.columns = [\"Condition\", \"Input Value\"]\n",
    "input.head()"
   ]
  },
  {
   "cell_type": "code",
   "execution_count": 194,
   "metadata": {
    "scrolled": true
   },
   "outputs": [
    {
     "data": {
      "text/html": [
       "<div>\n",
       "<style scoped>\n",
       "    .dataframe tbody tr th:only-of-type {\n",
       "        vertical-align: middle;\n",
       "    }\n",
       "\n",
       "    .dataframe tbody tr th {\n",
       "        vertical-align: top;\n",
       "    }\n",
       "\n",
       "    .dataframe thead th {\n",
       "        text-align: right;\n",
       "    }\n",
       "</style>\n",
       "<table border=\"1\" class=\"dataframe\">\n",
       "  <thead>\n",
       "    <tr style=\"text-align: right;\">\n",
       "      <th></th>\n",
       "      <th>Condition</th>\n",
       "      <th>Input Value</th>\n",
       "    </tr>\n",
       "  </thead>\n",
       "  <tbody>\n",
       "    <tr>\n",
       "      <th>0</th>\n",
       "      <td>SPEEDING</td>\n",
       "      <td>0.0</td>\n",
       "    </tr>\n",
       "    <tr>\n",
       "      <th>1</th>\n",
       "      <td>INATTENTIONIND</td>\n",
       "      <td>0.0</td>\n",
       "    </tr>\n",
       "    <tr>\n",
       "      <th>2</th>\n",
       "      <td>UNDERINFL</td>\n",
       "      <td>1.0</td>\n",
       "    </tr>\n",
       "    <tr>\n",
       "      <th>3</th>\n",
       "      <td>Dark - No Street Lights</td>\n",
       "      <td>1.0</td>\n",
       "    </tr>\n",
       "    <tr>\n",
       "      <th>4</th>\n",
       "      <td>Dark - Street Lights Off</td>\n",
       "      <td>0.0</td>\n",
       "    </tr>\n",
       "  </tbody>\n",
       "</table>\n",
       "</div>"
      ],
      "text/plain": [
       "                  Condition  Input Value\n",
       "0                  SPEEDING          0.0\n",
       "1            INATTENTIONIND          0.0\n",
       "2                 UNDERINFL          1.0\n",
       "3   Dark - No Street Lights          1.0\n",
       "4  Dark - Street Lights Off          0.0"
      ]
     },
     "execution_count": 194,
     "metadata": {},
     "output_type": "execute_result"
    }
   ],
   "source": [
    "# change input conditions from default\n",
    "new_input = input\n",
    "# set human condition\n",
    "new_input.loc[(input.Condition == 'UNDERINFL'), \"Input Value\"] = 1\n",
    "# set lighting condition\n",
    "new_input.loc[(input.Condition == 'Dark - No Street Lights'), \"Input Value\"] = 1\n",
    "# set road condition\n",
    "new_input.loc[(input.Condition == 'Wet'), \"Input Value\"] = 1\n",
    "# set weather condition\n",
    "new_input.loc[(input.Condition == 'Raining'), \"Input Value\"] = 1\n",
    "new_input.head()"
   ]
  },
  {
   "cell_type": "code",
   "execution_count": 195,
   "metadata": {},
   "outputs": [
    {
     "data": {
      "text/plain": [
       "array(['2'], dtype='<U21')"
      ]
     },
     "execution_count": 195,
     "metadata": {},
     "output_type": "execute_result"
    }
   ],
   "source": [
    "# reshaping one-sample to 2D input for prediction\n",
    "newinput = new_input[\"Input Value\"].values\n",
    "newinput = newinput.reshape(1, -1)\n",
    "LR_model.predict(newinput)"
   ]
  },
  {
   "cell_type": "markdown",
   "metadata": {},
   "source": [
    "The model predicts a severity level of 2 given the input conditions. Try same environmental conditions but without influence of drugs."
   ]
  },
  {
   "cell_type": "code",
   "execution_count": 196,
   "metadata": {
    "scrolled": false
   },
   "outputs": [
    {
     "data": {
      "text/plain": [
       "array(['1'], dtype='<U21')"
      ]
     },
     "execution_count": 196,
     "metadata": {},
     "output_type": "execute_result"
    }
   ],
   "source": [
    "# change input conditions from default\n",
    "new_input = input\n",
    "# set human condition\n",
    "new_input.loc[(input.Condition == 'UNDERINFL'), \"Input Value\"] = 0\n",
    "# set lighting condition\n",
    "new_input.loc[(input.Condition == 'Dark - No Street Lights'), \"Input Value\"] = 1\n",
    "# set road condition\n",
    "new_input.loc[(input.Condition == 'Wet'), \"Input Value\"] = 1\n",
    "# set weather condition\n",
    "new_input.loc[(input.Condition == 'Raining'), \"Input Value\"] = 1\n",
    "new_input.head()\n",
    "\n",
    "# reshaping one-sample to 2D input for prediction\n",
    "newinput = new_input[\"Input Value\"].values\n",
    "newinput = newinput.reshape(1, -1)\n",
    "LR_model.predict(newinput)"
   ]
  },
  {
   "cell_type": "markdown",
   "metadata": {},
   "source": [
    "The models provide empirical evidence against driving behaviours such as substance-use driving."
   ]
  },
  {
   "cell_type": "code",
   "execution_count": null,
   "metadata": {},
   "outputs": [],
   "source": []
  }
 ],
 "metadata": {
  "kernelspec": {
   "display_name": "Python 3",
   "language": "python",
   "name": "python3"
  },
  "language_info": {
   "codemirror_mode": {
    "name": "ipython",
    "version": 3
   },
   "file_extension": ".py",
   "mimetype": "text/x-python",
   "name": "python",
   "nbconvert_exporter": "python",
   "pygments_lexer": "ipython3",
   "version": "3.8.5"
  }
 },
 "nbformat": 4,
 "nbformat_minor": 4
}
